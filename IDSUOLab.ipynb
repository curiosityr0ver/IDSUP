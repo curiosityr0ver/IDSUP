{
  "nbformat": 4,
  "nbformat_minor": 0,
  "metadata": {
    "colab": {
      "provenance": [],
      "authorship_tag": "ABX9TyM69Njyj8ZgEKB3TxMQF2ZQ",
      "include_colab_link": true
    },
    "kernelspec": {
      "name": "python3",
      "display_name": "Python 3"
    },
    "language_info": {
      "name": "python"
    }
  },
  "cells": [
    {
      "cell_type": "markdown",
      "metadata": {
        "id": "view-in-github",
        "colab_type": "text"
      },
      "source": [
        "<a href=\"https://colab.research.google.com/github/curiosityr0ver/IDSUP/blob/main/IDSUOLab.ipynb\" target=\"_parent\"><img src=\"https://colab.research.google.com/assets/colab-badge.svg\" alt=\"Open In Colab\"/></a>"
      ]
    },
    {
      "cell_type": "code",
      "execution_count": 2,
      "metadata": {
        "id": "eIdbovaV_4sw",
        "colab": {
          "base_uri": "https://localhost:8080/"
        },
        "outputId": "0a21bd03-69e0-44c0-8b37-59d83d5ef028"
      },
      "outputs": [
        {
          "output_type": "stream",
          "name": "stdout",
          "text": [
            "Ankita doesn't know how to use github\n"
          ]
        }
      ],
      "source": [
        "print(\"Ankita doesn't know how to use github, she will get fired if she doesn't figure it out in the next few months. She will learn it since she has a very good teacher.\")"
      ]
    }
  ]
}
