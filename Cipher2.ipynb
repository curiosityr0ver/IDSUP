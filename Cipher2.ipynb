{
  "nbformat": 4,
  "nbformat_minor": 0,
  "metadata": {
    "colab": {
      "provenance": [],
      "authorship_tag": "ABX9TyNUHwFtW1IFZH0s5nxtwOWj",
      "include_colab_link": true
    },
    "kernelspec": {
      "name": "python3",
      "display_name": "Python 3"
    },
    "language_info": {
      "name": "python"
    }
  },
  "cells": [
    {
      "cell_type": "markdown",
      "metadata": {
        "id": "view-in-github",
        "colab_type": "text"
      },
      "source": [
        "<a href=\"https://colab.research.google.com/github/curiosityr0ver/IDSUP/blob/main/Cipher2.ipynb\" target=\"_parent\"><img src=\"https://colab.research.google.com/assets/colab-badge.svg\" alt=\"Open In Colab\"/></a>"
      ]
    },
    {
      "cell_type": "code",
      "execution_count": 1,
      "metadata": {
        "id": "uWi_FblFP0Fl"
      },
      "outputs": [],
      "source": [
        "#Matrix"
      ]
    },
    {
      "cell_type": "code",
      "source": [
        "def displayMtx(mtx):\n",
        "  if(mtx == None): return None\n",
        "  for row in mtx:\n",
        "    for ele in row:\n",
        "      print(ele, end = \",\")\n",
        "    print()\n"
      ],
      "metadata": {
        "id": "-jXwnrvZTMfI"
      },
      "execution_count": 2,
      "outputs": []
    },
    {
      "cell_type": "code",
      "source": [
        "def mulMtx(m1, m2):\n",
        "  if(len(m1[0]) != len(m2)):\n",
        "    print(\"Columns of matrix 1 != Rows of matrix 2\")\n",
        "    return None\n",
        "  rows = len(m1)\n",
        "  cols = len(m2[0])\n",
        "  n = len(m1[0])\n",
        "  res = [] \n",
        "  for i in range(0, rows):\n",
        "    res.append([])\n",
        "    for j in range(0, cols):\n",
        "      res[i].append(0)\n",
        "      for k in range(0,n):\n",
        "        res[i][j] += m1[i][k] * m2[k][j]\n",
        "  return res"
      ],
      "metadata": {
        "id": "qLnYKvnwT2Hc"
      },
      "execution_count": 3,
      "outputs": []
    },
    {
      "cell_type": "code",
      "source": [
        "mtx = [[1,2,3,4], [5,6,7,8], [9,10,11,12]]\n",
        "mtx2 = [[9,10], [11,12], [13,14],[15,16]]\n",
        "displayMtx(mulMtx(mtx, mtx2))\n",
        "\n"
      ],
      "metadata": {
        "colab": {
          "base_uri": "https://localhost:8080/"
        },
        "id": "Ttzv5vpITsos",
        "outputId": "3d4f6189-1dba-4930-eea4-e6b91d6ec178"
      },
      "execution_count": 4,
      "outputs": [
        {
          "output_type": "stream",
          "name": "stdout",
          "text": [
            "130,140,\n",
            "322,348,\n",
            "514,556,\n"
          ]
        }
      ]
    },
    {
      "cell_type": "code",
      "source": [],
      "metadata": {
        "id": "ODQdVVSxloHe"
      },
      "execution_count": 4,
      "outputs": []
    },
    {
      "cell_type": "markdown",
      "source": [
        "# Ciphering Algorithms"
      ],
      "metadata": {
        "id": "-PE_ytWilXmv"
      }
    },
    {
      "cell_type": "code",
      "source": [
        "# Caesar Cipher\n",
        "  \n",
        "def incChar(ch, key = 0):\n",
        "  if(ch == \" \" or ch == \",\" or ch == \".\"): return ch\n",
        "  ind = ord(ch) + key - 97\n",
        "  ind = ind%26 + 97\n",
        "  return chr(ind)\n",
        "\n",
        "def indChar(ind):\n",
        "  return chr(ind+97)\n",
        "\n",
        "def caesarCiph(text, key):\n",
        "  res = \"\"\n",
        "  for ch in text:\n",
        "    res += incChar(ch, key)\n",
        "  print(res)\n",
        "\n",
        "text = \"Hey There\"\n",
        "# printAlph(text)\n",
        "caesarCiph(text, 2)\n"
      ],
      "metadata": {
        "colab": {
          "base_uri": "https://localhost:8080/"
        },
        "id": "9pyhsiyLTy_y",
        "outputId": "edbc67e2-4244-4363-b490-b1e5760b1315"
      },
      "execution_count": 5,
      "outputs": [
        {
          "output_type": "stream",
          "name": "stdout",
          "text": [
            "dga pjgtg\n"
          ]
        }
      ]
    },
    {
      "cell_type": "code",
      "source": [
        "# Mono-alphabetic Cipher\n",
        "\n",
        "def monoCiph(text, key):\n",
        "  dict = {\" \": 32}\n",
        "  count = 97\n",
        "  for ch in key:\n",
        "    if(ch == \" \"): continue\n",
        "    if (ord(ch)-97 in dict.values()): continue\n",
        "    dict[chr(count)] = ord(ch)-97\n",
        "    count+=1\n",
        "\n",
        "  count2 = 0\n",
        "\n",
        "  while(count < 123):\n",
        "    if(count2 in dict.values()):\n",
        "      count2+=1\n",
        "    else:\n",
        "      dict[chr(count)] = count2\n",
        "      count+=1\n",
        "      count2+=1\n",
        "\n",
        "  res = \"\"\n",
        "\n",
        "  for ch in text:\n",
        "    res += incChar(ch, dict[ch])\n",
        "\n",
        "  return res\n",
        "\n",
        "\n",
        "\n",
        "text = \"hello there\"\n",
        "key = \"the\"\n",
        "print(monoCiph(text, key))"
      ],
      "metadata": {
        "colab": {
          "base_uri": "https://localhost:8080/"
        },
        "id": "yflES51FtvR8",
        "outputId": "5f2001f5-ee15-4494-900e-a614b16dc5af"
      },
      "execution_count": 6,
      "outputs": [
        {
          "output_type": "stream",
          "name": "stdout",
          "text": [
            "mfvvb lmfhf\n"
          ]
        }
      ]
    },
    {
      "cell_type": "code",
      "source": [
        "# PlayFair Cipher\n",
        "import random\n",
        "\n",
        "def playCipher(text, key):\n",
        "  mtx = []\n",
        "  count = 0\n",
        "  chars = []\n",
        "\n",
        "  for ch in key:\n",
        "    if(ch not in chars):\n",
        "      chars.append(ch)\n",
        "  for i in range(97,123):\n",
        "    if(chr(i) not in chars):\n",
        "      chars.append(chr(i))\n",
        "\n",
        "\n",
        "  for i in range(0,5):\n",
        "    mtx.append([])\n",
        "    for j in range(0,5):\n",
        "      mtx[i].append(chars[count])\n",
        "      count+=1\n",
        "      \n",
        "  displayMtx(mtx)\n",
        "\n",
        "  sum = 0\n",
        "\n",
        "  for ch in chars:\n",
        "    sum += ord(ch)-97\n",
        "  print(chr(sum-300+97), \"is the character which will share spaces with\", random.choice(chars))\n",
        "\n",
        "  if(len(text)%2 == 1):\n",
        "    text += 'x'\n",
        "\n",
        "\n",
        "  tokens = []\n",
        "\n",
        "  for i in range(0, len(text),2):\n",
        "    tokens.append(text[i]+text[i+1])\n",
        "\n",
        "  for token in tokens:\n",
        "    print(token)\n",
        "\n",
        "    for i in range(0,5):\n",
        "      for j in range(0,5):\n",
        "        if(token[0] == mtx[])\n",
        "\n",
        "\n",
        "\n",
        "\n",
        "\n",
        "\n",
        "playCipher(\"abcde\",\"pqrstqt\")"
      ],
      "metadata": {
        "colab": {
          "base_uri": "https://localhost:8080/"
        },
        "id": "UG7QWYo8l0Kg",
        "outputId": "f56f84a6-9104-4e6e-d3c3-ad663a69b005"
      },
      "execution_count": 37,
      "outputs": [
        {
          "output_type": "stream",
          "name": "stdout",
          "text": [
            "p,q,r,s,t,\n",
            "a,b,c,d,e,\n",
            "f,g,h,i,j,\n",
            "k,l,m,n,o,\n",
            "u,v,w,x,y,\n",
            "z is the character which will share spaces with r\n",
            "['ab', 'cd', 'ex']\n",
            "ab\n",
            "cd\n",
            "ex\n"
          ]
        }
      ]
    },
    {
      "cell_type": "code",
      "source": [],
      "metadata": {
        "id": "ce7PrsR16AcH"
      },
      "execution_count": 7,
      "outputs": []
    }
  ]
}