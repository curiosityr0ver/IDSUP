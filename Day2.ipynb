{
 "cells": [
  {
   "cell_type": "code",
   "execution_count": 1,
   "metadata": {},
   "outputs": [
    {
     "data": {
      "text/plain": [
       "{'Hadoop': [0, 9],\n",
       " 'Big Data': [0, 8, 9],\n",
       " 'HBase': [0, 1],\n",
       " 'Java': [0, 5, 9],\n",
       " 'Spark': [0],\n",
       " 'Storm': [0],\n",
       " 'Cassandra': [0, 1],\n",
       " 'NoSQL': [1],\n",
       " 'MongoDB': [1],\n",
       " 'Postgres': [1],\n",
       " 'Python': [2, 3, 5],\n",
       " 'scikit-learn': [2, 7],\n",
       " 'scipy': [2],\n",
       " 'numpy': [2],\n",
       " 'statsmodels': [2],\n",
       " 'pandas': [2],\n",
       " 'R': [3, 5],\n",
       " 'statistics': [3, 6],\n",
       " 'regression': [3, 4],\n",
       " 'probability': [3, 6],\n",
       " 'machine learning': [4, 7],\n",
       " 'decision trees': [4],\n",
       " 'libsvm': [4],\n",
       " 'C++': [5],\n",
       " 'Haskell': [5],\n",
       " 'programming languages': [5],\n",
       " 'mathematics': [6],\n",
       " 'theory': [6],\n",
       " 'Mahout': [7],\n",
       " 'neural networks': [7, 8],\n",
       " 'deep learning': [8],\n",
       " 'artificial intelligence': [8],\n",
       " 'MapReduce': [9]}"
      ]
     },
     "execution_count": 1,
     "metadata": {},
     "output_type": "execute_result"
    }
   ],
   "source": [
    "interests = [\n",
    "(0, \"Hadoop\"), (0, \"Big Data\"), (0, \"HBase\"), (0, \"Java\"),\n",
    "(0, \"Spark\"), (0, \"Storm\"), (0, \"Cassandra\"),\n",
    "(1, \"NoSQL\"), (1, \"MongoDB\"), (1, \"Cassandra\"), (1, \"HBase\"),\n",
    "(1, \"Postgres\"), (2, \"Python\"), (2, \"scikit-learn\"), (2, \"scipy\"),\n",
    "(2, \"numpy\"), (2, \"statsmodels\"), (2, \"pandas\"), (3, \"R\"), (3, \"Python\"),\n",
    "(3, \"statistics\"), (3, \"regression\"), (3, \"probability\"),\n",
    "(4, \"machine learning\"), (4, \"regression\"), (4, \"decision trees\"),\n",
    "(4, \"libsvm\"), (5, \"Python\"), (5, \"R\"), (5, \"Java\"), (5, \"C++\"),\n",
    "(5, \"Haskell\"), (5, \"programming languages\"), (6, \"statistics\"),\n",
    "(6, \"probability\"), (6, \"mathematics\"), (6, \"theory\"),\n",
    "(7, \"machine learning\"), (7, \"scikit-learn\"), (7, \"Mahout\"),\n",
    "(7, \"neural networks\"), (8, \"neural networks\"), (8, \"deep learning\"),\n",
    "(8, \"Big Data\"), (8, \"artificial intelligence\"), (9, \"Hadoop\"),\n",
    "(9, \"Java\"), (9, \"MapReduce\"), (9, \"Big Data\")\n",
    "]\n",
    "dict = {}\n",
    "\n",
    "for user, interest in interests:\n",
    "    if(dict.get(interest, 0) == 0):dict[interest] = []\n",
    "    dict[interest].append(user)\n",
    "\n",
    "\n",
    "dict"
   ]
  },
  {
   "cell_type": "code",
   "execution_count": 2,
   "metadata": {},
   "outputs": [
    {
     "name": "stdout",
     "output_type": "stream",
     "text": [
      "Big Data appears 3 times.\n"
     ]
    }
   ],
   "source": [
    "mostCommon = \"Hadoop\"\n",
    "for entry in dict:\n",
    "    # print(dict.get(entry))\n",
    "    if(len(dict.get(entry)) > len(dict.get(mostCommon))):\n",
    "        mostCommon = entry\n",
    "\n",
    "print(mostCommon, \"appears\", len(dict.get(mostCommon)), \"times.\")\n",
    "fefgegegggeg\n"
   ]
  },
  {
   "cell_type": "code",
   "execution_count": 3,
   "metadata": {},
   "outputs": [
    {
     "name": "stdout",
     "output_type": "stream",
     "text": [
      "0 and 1 have 2 friends in common.\n",
      "0 and 5 have 1 friends in common.\n",
      "0 and 8 have 1 friends in common.\n",
      "0 and 9 have 3 friends in common.\n",
      "1 and 0 have 2 friends in common.\n",
      "2 and 3 have 1 friends in common.\n",
      "2 and 5 have 1 friends in common.\n",
      "2 and 7 have 1 friends in common.\n",
      "3 and 2 have 1 friends in common.\n",
      "3 and 4 have 1 friends in common.\n",
      "3 and 5 have 2 friends in common.\n",
      "3 and 6 have 2 friends in common.\n",
      "4 and 3 have 1 friends in common.\n",
      "4 and 7 have 1 friends in common.\n",
      "5 and 0 have 1 friends in common.\n",
      "5 and 2 have 1 friends in common.\n",
      "5 and 3 have 2 friends in common.\n",
      "5 and 9 have 1 friends in common.\n",
      "6 and 3 have 2 friends in common.\n",
      "7 and 2 have 1 friends in common.\n",
      "7 and 4 have 1 friends in common.\n",
      "7 and 8 have 1 friends in common.\n",
      "8 and 0 have 1 friends in common.\n",
      "8 and 7 have 1 friends in common.\n",
      "8 and 9 have 1 friends in common.\n",
      "9 and 0 have 3 friends in common.\n",
      "9 and 5 have 1 friends in common.\n",
      "9 and 8 have 1 friends in common.\n"
     ]
    }
   ],
   "source": [
    "#To find common interests\n",
    "\n",
    "for i in range(0,10):\n",
    "    for j in range(0,10):\n",
    "        if(i == j): continue\n",
    "        user1 = i\n",
    "        user2 = j\n",
    "        common = []\n",
    "        for entry in dict:\n",
    "            if(user1 in dict.get(entry) and user2 in dict.get(entry)):\n",
    "                common.append(entry)\n",
    "        if(len(common) == 0): continue\n",
    "        print(user1, \"and\", user2, \"have\", len(common), \"friends in common.\")\n"
   ]
  },
  {
   "attachments": {},
   "cell_type": "markdown",
   "metadata": {},
   "source": [
    "**Assignment1**"
   ]
  },
  {
   "attachments": {},
   "cell_type": "markdown",
   "metadata": {},
   "source": [
    "#Q1 (Group by tenureship)"
   ]
  },
  {
   "cell_type": "code",
   "execution_count": 14,
   "metadata": {},
   "outputs": [
    {
     "name": "stdout",
     "output_type": "stream",
     "text": [
      "Average of salaries of group1:  48000.0\n",
      "Average of salaries of group1:  48000.0\n",
      "Average of salaries of group1:  48000.0\n",
      "Paid employee\n",
      "Paid employee\n",
      "Paid employee\n",
      "Paid employee\n",
      "Paid employee\n"
     ]
    }
   ],
   "source": [
    "from typing import DefaultDict\n",
    "\n",
    "\n",
    "sal = [(83000, 8.7), (88000, 8.1), (48000, 0.7),\n",
    "(76000, 6), (69000, 6.5), (76000, 7.5), (60000, 2.5), (83000, 10),\n",
    "(48000, 1.9), (63000, 4.2)]\n",
    "dict2 = DefaultDict(list)\n",
    "\n",
    "for i in range(0, len(sal)):\n",
    "  if(sal[i][1] <= 2):\n",
    "    dict2[\"First Group\"].append(sal[i][0])\n",
    "  elif(sal[i][1] <= 5):\n",
    "    dict2[\"Second Group\"].append(sal[i][0])\n",
    "  else:\n",
    "    dict2[\"Third Group\"].append(sal[i][0])\n",
    "print(\"Average of salaries of group1: \", sum(dict2[\"First Group\"])/len(dict2[\"First Group\"]))\n",
    "print(\"Average of salaries of group1: \", sum(dict2[\"First Group\"])/len(dict2[\"First Group\"]))\n",
    "print(\"Average of salaries of group1: \", sum(dict2[\"First Group\"])/len(dict2[\"First Group\"]))\n"
   ]
  },
  {
   "cell_type": "code",
   "execution_count": 15,
   "metadata": {},
   "outputs": [
    {
     "name": "stdout",
     "output_type": "stream",
     "text": [
      "Paid\n",
      "Paid\n",
      "Paid\n",
      "Paid\n",
      "Paid\n"
     ]
    }
   ],
   "source": [
    "def isUnPaid(user):\n",
    "    if(user[1]< 3 or user[1]> 8.5):\n",
    "        print(\"Paid\")\n",
    "\n",
    "\n",
    "for entry in sal:\n",
    "    isUnPaid(entry)"
   ]
  },
  {
   "attachments": {},
   "cell_type": "markdown",
   "metadata": {},
   "source": [
    "#Q3 (Generate Random Password)"
   ]
  },
  {
   "cell_type": "code",
   "execution_count": 99,
   "metadata": {},
   "outputs": [
    {
     "name": "stdout",
     "output_type": "stream",
     "text": [
      "Gee7UaX489\n"
     ]
    },
    {
     "data": {
      "text/plain": [
       "10"
      ]
     },
     "execution_count": 99,
     "metadata": {},
     "output_type": "execute_result"
    }
   ],
   "source": [
    "import string\n",
    "import random\n",
    "\n",
    "pwd = \"\"\n",
    "# n = int(input(\"Enter the length of the password \"))\n",
    "n = 10\n",
    "#x = [string.ascii_letters,string.digits]\n",
    "\n",
    "for i in range(n):\n",
    "    temp = random.choice(string.ascii_letters+string.digits)\n",
    "    pwd += temp\n",
    "\n",
    "print(pwd)\n",
    "file = open(\"MyPasswords.txt\", \"w\")\n",
    "file.write(pwd)"
   ]
  },
  {
   "cell_type": "code",
   "execution_count": null,
   "metadata": {},
   "outputs": [],
   "source": [
    "class Person:\n",
    "    def __init__(self, name):\n",
    "        self.name = name\n",
    "    def __repr__(self):\n",
    "        return f''"
   ]
  },
  {
   "attachments": {},
   "cell_type": "markdown",
   "metadata": {},
   "source": [
    "#Notes\n",
    "__str__() : it is an informal string representation\n",
    "            it is readable\n",
    "\n",
    "\n",
    "__repr__(): it is a formal string \n",
    "            used ofr debugging and devlopment\n",
    "\n",
    "Iterables : Are object that are capable of returning their members one at a time. \n",
    "\n",
    "Iterator: It is an object representing a stream of data\n",
    "two methods are used for iterator:-\n",
    "1. iter: returns an iterator object and initalize the iteration\n",
    "2. next: returns the current value of iterator\n",
    "\n"
   ]
  },
  {
   "cell_type": "code",
   "execution_count": 42,
   "metadata": {},
   "outputs": [
    {
     "name": "stdout",
     "output_type": "stream",
     "text": [
      "2023-03-20 08:50:38.611943\n",
      "datetime.datetime(2023, 3, 20, 8, 50, 38, 611943)\n"
     ]
    }
   ],
   "source": [
    "import datetime\n",
    "date = datetime.datetime.now()\n",
    "print(date)\n",
    "print(date.__repr__())"
   ]
  },
  {
   "cell_type": "code",
   "execution_count": 49,
   "metadata": {},
   "outputs": [
    {
     "name": "stdout",
     "output_type": "stream",
     "text": [
      "<list_iterator object at 0x7f2c0c1eafd0>\n"
     ]
    }
   ],
   "source": [
    "arr = [3,1,5,7,3]\n",
    "item = arr.__iter__()\n",
    "\n",
    "item.__next__()\n",
    "item.__next__()\n",
    "item.__next__()\n",
    "item.__next__()"
   ]
  },
  {
   "cell_type": "code",
   "execution_count": 60,
   "metadata": {},
   "outputs": [
    {
     "name": "stdout",
     "output_type": "stream",
     "text": [
      "<generator object fib at 0x7f2c0c14eb30>\n",
      "(1, 1)\n",
      "(1, 2)\n",
      "(2, 3)\n"
     ]
    }
   ],
   "source": [
    "#Generators\n",
    "\n",
    "def fib():\n",
    "    a,b = 0,1\n",
    "    while a<5:\n",
    "        a,b=b,a+b\n",
    "        yield a,b\n",
    "\n",
    "gen = fib()\n",
    "print(gen)\n",
    "print(next(gen))\n",
    "print(next(gen))\n",
    "print(next(gen))\n",
    "\n",
    "\n",
    "#Difference between return and yield Python\n",
    "#The yield keyword in Python is similar to a return statement used for returning values in Python which returns a generator object to the one who calls the function which contains yield, instead of simply returning a value. \n",
    "#The main difference between them is, the return statement terminates the execution of the function. \n",
    "#Whereas, the yield statement only pauses the execution of the function. \n",
    "#Another difference is return statements are never executed.\n",
    "#Whereas, yield statements are executed when the function resumes its execution."
   ]
  },
  {
   "attachments": {},
   "cell_type": "markdown",
   "metadata": {},
   "source": [
    "#Q4 Count Unique"
   ]
  },
  {
   "cell_type": "code",
   "execution_count": 100,
   "metadata": {},
   "outputs": [
    {
     "data": {
      "text/plain": [
       "defaultdict(<function __main__.def_value()>,\n",
       "            {'H': 1, 'e': 3, 'l': 2, 'o': 1, 'T': 1, 'h': 1, 'r': 1})"
      ]
     },
     "execution_count": 100,
     "metadata": {},
     "output_type": "execute_result"
    }
   ],
   "source": [
    "from collections import defaultdict\n",
    "\n",
    "def def_value():\n",
    "    return 0\n",
    "\n",
    "def getUniq(text):\n",
    "    dict5 = defaultdict(def_value)\n",
    "\n",
    "    for i in text:\n",
    "        if(i > 'A' and i < 'z'):\n",
    "            \n",
    "            dict5[i] += 1\n",
    "    \n",
    "    return dict5\n",
    "\n",
    "\n",
    "text = \"Hello $ # There !\"\n",
    "\n",
    "getUniq(text)"
   ]
  },
  {
   "attachments": {},
   "cell_type": "markdown",
   "metadata": {},
   "source": [
    "#Q6 Occurences"
   ]
  },
  {
   "cell_type": "code",
   "execution_count": 1,
   "metadata": {},
   "outputs": [
    {
     "name": "stdout",
     "output_type": "stream",
     "text": [
      "4.5\n"
     ]
    }
   ],
   "source": [
    "sum=0\n",
    "for i in range(0,10):\n",
    "    sum=sum+i\n",
    "print(sum/10)"
   ]
  },
  {
   "cell_type": "code",
   "execution_count": 101,
   "metadata": {},
   "outputs": [
    {
     "name": "stdout",
     "output_type": "stream",
     "text": [
      "['welcome', 'to', 'the', 'jungle']\n"
     ]
    }
   ],
   "source": [
    "txt = \"Lorem ipsum dolor sit amet, consectetur adipiscing elit, sed do eiusmod tempor incididunt ut labore et dolore magna aliqua. Ut enim ad minim veniam, quis nostrud exercitation ullamco laboris nisi ut aliquip ex ea commodo consequat. Duis aute irure dolor in reprehenderit in voluptate velit esse cillum dolore eu fugiat nulla pariatur. Excepteur sint occaecat cupidatat non proident, sunt in culpa qui officia deserunt mollit anim id est laborum.\"\n",
    "\n",
    "x = txt.split()\n",
    "\n",
    "print(x)"
   ]
  }
 ],
 "metadata": {
  "kernelspec": {
   "display_name": "Python 3",
   "language": "python",
   "name": "python3"
  },
  "language_info": {
   "codemirror_mode": {
    "name": "ipython",
    "version": 3
   },
   "file_extension": ".py",
   "mimetype": "text/x-python",
   "name": "python",
   "nbconvert_exporter": "python",
   "pygments_lexer": "ipython3",
   "version": "3.10.4"
  },
  "orig_nbformat": 4
 },
 "nbformat": 4,
 "nbformat_minor": 2
}
