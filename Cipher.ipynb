{
  "nbformat": 4,
  "nbformat_minor": 0,
  "metadata": {
    "colab": {
      "provenance": [],
      "authorship_tag": "ABX9TyPpcE17ab2Qkh/HUW4WL6eu",
      "include_colab_link": true
    },
    "kernelspec": {
      "name": "python3",
      "display_name": "Python 3"
    },
    "language_info": {
      "name": "python"
    }
  },
  "cells": [
    {
      "cell_type": "markdown",
      "metadata": {
        "id": "view-in-github",
        "colab_type": "text"
      },
      "source": [
        "<a href=\"https://colab.research.google.com/github/curiosityr0ver/IDSUP/blob/main/Cipher.ipynb\" target=\"_parent\"><img src=\"https://colab.research.google.com/assets/colab-badge.svg\" alt=\"Open In Colab\"/></a>"
      ]
    },
    {
      "cell_type": "code",
      "execution_count": null,
      "metadata": {
        "id": "uWi_FblFP0Fl"
      },
      "outputs": [],
      "source": [
        "#Matrix"
      ]
    },
    {
      "cell_type": "code",
      "source": [
        "def displayMtx(mtx):\n",
        "  if(mtx == None): return None\n",
        "  for row in mtx:\n",
        "    for ele in row:\n",
        "      print(ele, end = \" \")\n",
        "    print()\n"
      ],
      "metadata": {
        "id": "-jXwnrvZTMfI"
      },
      "execution_count": null,
      "outputs": []
    },
    {
      "cell_type": "code",
      "source": [
        "def mulMtx(m1, m2):\n",
        "  if(len(m1[0]) != len(m2)):\n",
        "    print(\"Columns of matrix 1 != Rows of matrix 2\")\n",
        "    return None\n",
        "  rows = len(m1)\n",
        "  cols = len(m2[0])\n",
        "  n = len(m1[0])\n",
        "  res = [] \n",
        "  for i in range(0, rows):\n",
        "    res.append([])\n",
        "    for j in range(0, cols):\n",
        "      res[i].append(0)\n",
        "      for k in range(0,n):\n",
        "        res[i][j] += m1[i][k] * m2[k][j]\n",
        "  return res"
      ],
      "metadata": {
        "id": "qLnYKvnwT2Hc"
      },
      "execution_count": null,
      "outputs": []
    },
    {
      "cell_type": "code",
      "source": [
        "mtx = [[1,2,3,4], [5,6,7,8], [9,10,11,12]]\n",
        "mtx2 = [[9,10], [11,12], [13,14],[15,16]]\n",
        "displayMtx(mulMtx(mtx, mtx2))\n",
        "\n"
      ],
      "metadata": {
        "colab": {
          "base_uri": "https://localhost:8080/"
        },
        "id": "Ttzv5vpITsos",
        "outputId": "a7e997eb-aeb3-4cf5-ddfe-c34007d3a858"
      },
      "execution_count": null,
      "outputs": [
        {
          "output_type": "stream",
          "name": "stdout",
          "text": [
            "130 140 \n",
            "322 348 \n",
            "514 556 \n"
          ]
        }
      ]
    },
    {
      "cell_type": "code",
      "source": [],
      "metadata": {
        "id": "ODQdVVSxloHe"
      },
      "execution_count": null,
      "outputs": []
    },
    {
      "cell_type": "markdown",
      "source": [
        "# Ciphering Algorithms"
      ],
      "metadata": {
        "id": "-PE_ytWilXmv"
      }
    },
    {
      "cell_type": "code",
      "source": [
        "# Caesar Cipher\n",
        "  \n",
        "def incChar(ch, key = 0):\n",
        "  if(ch == \" \" or ch == \",\" or ch == \".\"): return ch\n",
        "  ind = ord(ch) + key - 97\n",
        "  ind = ind%26 + 97\n",
        "  return chr(ind)\n",
        "\n",
        "def indChar(ind):\n",
        "  return chr(ind+97)\n",
        "\n",
        "def caesarCiph(text, key):\n",
        "  res = \"\"\n",
        "  for ch in text:\n",
        "    res += incChar(ch, key)\n",
        "  print(res)\n",
        "\n",
        "text = \"Hey There\"\n",
        "# printAlph(text)\n",
        "caesarCiph(text, 2)\n"
      ],
      "metadata": {
        "colab": {
          "base_uri": "https://localhost:8080/"
        },
        "id": "9pyhsiyLTy_y",
        "outputId": "f04c2aba-2d7b-450a-b273-36401d734bb0"
      },
      "execution_count": null,
      "outputs": [
        {
          "output_type": "stream",
          "name": "stdout",
          "text": [
            "dga pjgtg\n"
          ]
        }
      ]
    },
    {
      "cell_type": "code",
      "source": [
        "# Mono-alphabetic Cipher\n",
        "\n",
        "def monoCiph(text, key):\n",
        "  dict = {\" \": 32}\n",
        "  count = 97\n",
        "  for ch in key:\n",
        "    if(ch == \" \"): continue\n",
        "    if (ord(ch)-97 in dict.values()): continue\n",
        "    dict[chr(count)] = ord(ch)-97\n",
        "    count+=1\n",
        "\n",
        "  count2 = 0\n",
        "\n",
        "  while(count < 123):\n",
        "    if(count2 in dict.values()):\n",
        "      count2+=1\n",
        "    else:\n",
        "      dict[chr(count)] = count2\n",
        "      count+=1\n",
        "      count2+=1\n",
        "\n",
        "  res = \"\"\n",
        "\n",
        "  for ch in text:\n",
        "    res += incChar(ch, dict[ch])\n",
        "\n",
        "  return res\n",
        "\n",
        "\n",
        "\n",
        "text = \"hello there\"\n",
        "key = \"the\"\n",
        "print(monoCiph(text, key))"
      ],
      "metadata": {
        "colab": {
          "base_uri": "https://localhost:8080/"
        },
        "id": "yflES51FtvR8",
        "outputId": "9c024c29-a84a-471a-c1e1-8a0a5d897928"
      },
      "execution_count": null,
      "outputs": [
        {
          "output_type": "stream",
          "name": "stdout",
          "text": [
            "mfvvb lmfhf\n"
          ]
        }
      ]
    },
    {
      "cell_type": "code",
      "source": [
        "# PlayFair Cipher\n",
        "\n",
        "def playCipher(text, key):\n",
        "  mtx = [[' ']*5]\n",
        "  print(mtx)\n",
        "\n",
        "playCipher(\"d\",\"d\")"
      ],
      "metadata": {
        "colab": {
          "base_uri": "https://localhost:8080/"
        },
        "id": "UG7QWYo8l0Kg",
        "outputId": "72401d51-1712-432a-957a-74e93f073f4c"
      },
      "execution_count": null,
      "outputs": [
        {
          "output_type": "stream",
          "name": "stdout",
          "text": [
            "[[' ', ' ', ' ', ' ', ' ']]\n"
          ]
        }
      ]
    },
    {
      "cell_type": "code",
      "source": [],
      "metadata": {
        "id": "ce7PrsR16AcH"
      },
      "execution_count": null,
      "outputs": []
    }
  ]
}